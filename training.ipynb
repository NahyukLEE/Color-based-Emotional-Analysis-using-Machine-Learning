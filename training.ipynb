{
 "cells": [
  {
   "cell_type": "markdown",
   "metadata": {},
   "source": [
    "# Emotion Classifier"
   ]
  },
  {
   "cell_type": "code",
   "execution_count": 3,
   "metadata": {},
   "outputs": [],
   "source": [
    "from sklearn.tree import DecisionTreeClassifier\n",
    "from sklearn.model_selection import train_test_split\n",
    "import pandas as pd\n",
    "import warnings\n",
    "warnings.filterwarnings('ignore')"
   ]
  },
  {
   "cell_type": "code",
   "execution_count": 4,
   "metadata": {},
   "outputs": [],
   "source": [
    "data_table = pd.read_csv('output.csv')"
   ]
  },
  {
   "cell_type": "code",
   "execution_count": 5,
   "metadata": {},
   "outputs": [
    {
     "name": "stdout",
     "output_type": "stream",
     "text": [
      "<class 'pandas.core.frame.DataFrame'>\n",
      "RangeIndex: 200 entries, 0 to 199\n",
      "Data columns (total 7 columns):\n",
      "R_avg        200 non-null float64\n",
      "G_avg        200 non-null float64\n",
      "B_avg        200 non-null float64\n",
      "Color_var    200 non-null float64\n",
      "V_var        200 non-null float64\n",
      "S_var        200 non-null float64\n",
      "label        200 non-null int64\n",
      "dtypes: float64(6), int64(1)\n",
      "memory usage: 11.1 KB\n",
      "None\n"
     ]
    }
   ],
   "source": [
    "print(data_table.info())"
   ]
  },
  {
   "cell_type": "code",
   "execution_count": 6,
   "metadata": {},
   "outputs": [
    {
     "data": {
      "text/html": [
       "<div>\n",
       "<style scoped>\n",
       "    .dataframe tbody tr th:only-of-type {\n",
       "        vertical-align: middle;\n",
       "    }\n",
       "\n",
       "    .dataframe tbody tr th {\n",
       "        vertical-align: top;\n",
       "    }\n",
       "\n",
       "    .dataframe thead th {\n",
       "        text-align: right;\n",
       "    }\n",
       "</style>\n",
       "<table border=\"1\" class=\"dataframe\">\n",
       "  <thead>\n",
       "    <tr style=\"text-align: right;\">\n",
       "      <th></th>\n",
       "      <th>R_avg</th>\n",
       "      <th>G_avg</th>\n",
       "      <th>B_avg</th>\n",
       "      <th>Color_var</th>\n",
       "      <th>V_var</th>\n",
       "      <th>S_var</th>\n",
       "      <th>label</th>\n",
       "    </tr>\n",
       "  </thead>\n",
       "  <tbody>\n",
       "    <tr>\n",
       "      <td>0</td>\n",
       "      <td>41.159902</td>\n",
       "      <td>6.339608</td>\n",
       "      <td>4.122353</td>\n",
       "      <td>8428.330322</td>\n",
       "      <td>24893.53975</td>\n",
       "      <td>0.379128</td>\n",
       "      <td>2</td>\n",
       "    </tr>\n",
       "    <tr>\n",
       "      <td>1</td>\n",
       "      <td>42.179304</td>\n",
       "      <td>32.587426</td>\n",
       "      <td>24.925267</td>\n",
       "      <td>14039.421230</td>\n",
       "      <td>26020.94546</td>\n",
       "      <td>0.228332</td>\n",
       "      <td>2</td>\n",
       "    </tr>\n",
       "    <tr>\n",
       "      <td>2</td>\n",
       "      <td>24.384406</td>\n",
       "      <td>13.276734</td>\n",
       "      <td>12.917357</td>\n",
       "      <td>10334.932620</td>\n",
       "      <td>18358.08420</td>\n",
       "      <td>0.259556</td>\n",
       "      <td>2</td>\n",
       "    </tr>\n",
       "  </tbody>\n",
       "</table>\n",
       "</div>"
      ],
      "text/plain": [
       "       R_avg      G_avg      B_avg     Color_var        V_var     S_var  label\n",
       "0  41.159902   6.339608   4.122353   8428.330322  24893.53975  0.379128      2\n",
       "1  42.179304  32.587426  24.925267  14039.421230  26020.94546  0.228332      2\n",
       "2  24.384406  13.276734  12.917357  10334.932620  18358.08420  0.259556      2"
      ]
     },
     "execution_count": 6,
     "metadata": {},
     "output_type": "execute_result"
    }
   ],
   "source": [
    "data_table.head(3)"
   ]
  },
  {
   "cell_type": "code",
   "execution_count": 7,
   "metadata": {},
   "outputs": [
    {
     "data": {
      "text/html": [
       "<div>\n",
       "<style scoped>\n",
       "    .dataframe tbody tr th:only-of-type {\n",
       "        vertical-align: middle;\n",
       "    }\n",
       "\n",
       "    .dataframe tbody tr th {\n",
       "        vertical-align: top;\n",
       "    }\n",
       "\n",
       "    .dataframe thead th {\n",
       "        text-align: right;\n",
       "    }\n",
       "</style>\n",
       "<table border=\"1\" class=\"dataframe\">\n",
       "  <thead>\n",
       "    <tr style=\"text-align: right;\">\n",
       "      <th></th>\n",
       "      <th>R_avg</th>\n",
       "      <th>G_avg</th>\n",
       "      <th>B_avg</th>\n",
       "      <th>Color_var</th>\n",
       "      <th>V_var</th>\n",
       "      <th>S_var</th>\n",
       "      <th>label</th>\n",
       "    </tr>\n",
       "  </thead>\n",
       "  <tbody>\n",
       "    <tr>\n",
       "      <td>count</td>\n",
       "      <td>200.000000</td>\n",
       "      <td>200.000000</td>\n",
       "      <td>200.000000</td>\n",
       "      <td>200.000000</td>\n",
       "      <td>200.000000</td>\n",
       "      <td>200.000000</td>\n",
       "      <td>200.00000</td>\n",
       "    </tr>\n",
       "    <tr>\n",
       "      <td>mean</td>\n",
       "      <td>25.080524</td>\n",
       "      <td>22.540344</td>\n",
       "      <td>20.703966</td>\n",
       "      <td>9859.722185</td>\n",
       "      <td>20039.446256</td>\n",
       "      <td>0.184246</td>\n",
       "      <td>1.50000</td>\n",
       "    </tr>\n",
       "    <tr>\n",
       "      <td>std</td>\n",
       "      <td>11.813719</td>\n",
       "      <td>11.524818</td>\n",
       "      <td>11.879637</td>\n",
       "      <td>4309.544786</td>\n",
       "      <td>6426.987452</td>\n",
       "      <td>0.149056</td>\n",
       "      <td>1.12084</td>\n",
       "    </tr>\n",
       "    <tr>\n",
       "      <td>min</td>\n",
       "      <td>2.075915</td>\n",
       "      <td>0.347061</td>\n",
       "      <td>0.235294</td>\n",
       "      <td>1223.068061</td>\n",
       "      <td>3593.486565</td>\n",
       "      <td>0.000000</td>\n",
       "      <td>0.00000</td>\n",
       "    </tr>\n",
       "    <tr>\n",
       "      <td>25%</td>\n",
       "      <td>15.483352</td>\n",
       "      <td>13.629974</td>\n",
       "      <td>11.171543</td>\n",
       "      <td>6683.981689</td>\n",
       "      <td>16210.235100</td>\n",
       "      <td>0.068065</td>\n",
       "      <td>0.75000</td>\n",
       "    </tr>\n",
       "    <tr>\n",
       "      <td>50%</td>\n",
       "      <td>24.243296</td>\n",
       "      <td>23.528233</td>\n",
       "      <td>19.776104</td>\n",
       "      <td>9629.385898</td>\n",
       "      <td>19641.660490</td>\n",
       "      <td>0.155312</td>\n",
       "      <td>1.50000</td>\n",
       "    </tr>\n",
       "    <tr>\n",
       "      <td>75%</td>\n",
       "      <td>35.099348</td>\n",
       "      <td>30.513464</td>\n",
       "      <td>29.760157</td>\n",
       "      <td>12716.311125</td>\n",
       "      <td>24776.507418</td>\n",
       "      <td>0.275042</td>\n",
       "      <td>2.25000</td>\n",
       "    </tr>\n",
       "    <tr>\n",
       "      <td>max</td>\n",
       "      <td>50.878914</td>\n",
       "      <td>46.909850</td>\n",
       "      <td>49.389196</td>\n",
       "      <td>21510.582700</td>\n",
       "      <td>38312.976830</td>\n",
       "      <td>0.600251</td>\n",
       "      <td>3.00000</td>\n",
       "    </tr>\n",
       "  </tbody>\n",
       "</table>\n",
       "</div>"
      ],
      "text/plain": [
       "            R_avg       G_avg       B_avg     Color_var         V_var  \\\n",
       "count  200.000000  200.000000  200.000000    200.000000    200.000000   \n",
       "mean    25.080524   22.540344   20.703966   9859.722185  20039.446256   \n",
       "std     11.813719   11.524818   11.879637   4309.544786   6426.987452   \n",
       "min      2.075915    0.347061    0.235294   1223.068061   3593.486565   \n",
       "25%     15.483352   13.629974   11.171543   6683.981689  16210.235100   \n",
       "50%     24.243296   23.528233   19.776104   9629.385898  19641.660490   \n",
       "75%     35.099348   30.513464   29.760157  12716.311125  24776.507418   \n",
       "max     50.878914   46.909850   49.389196  21510.582700  38312.976830   \n",
       "\n",
       "            S_var      label  \n",
       "count  200.000000  200.00000  \n",
       "mean     0.184246    1.50000  \n",
       "std      0.149056    1.12084  \n",
       "min      0.000000    0.00000  \n",
       "25%      0.068065    0.75000  \n",
       "50%      0.155312    1.50000  \n",
       "75%      0.275042    2.25000  \n",
       "max      0.600251    3.00000  "
      ]
     },
     "execution_count": 7,
     "metadata": {},
     "output_type": "execute_result"
    }
   ],
   "source": [
    "data_table.describe()"
   ]
  },
  {
   "cell_type": "code",
   "execution_count": 8,
   "metadata": {},
   "outputs": [],
   "source": [
    "X_features = data_table.iloc[:,:-1]\n",
    "y_labels = data_table.iloc[:,-1]\n",
    "\n",
    "X_train, X_test, y_train, y_test = train_test_split(X_features, y_labels, test_size=0.2, random_state=111)"
   ]
  },
  {
   "cell_type": "code",
   "execution_count": 9,
   "metadata": {},
   "outputs": [
    {
     "data": {
      "text/html": [
       "<div>\n",
       "<style scoped>\n",
       "    .dataframe tbody tr th:only-of-type {\n",
       "        vertical-align: middle;\n",
       "    }\n",
       "\n",
       "    .dataframe tbody tr th {\n",
       "        vertical-align: top;\n",
       "    }\n",
       "\n",
       "    .dataframe thead th {\n",
       "        text-align: right;\n",
       "    }\n",
       "</style>\n",
       "<table border=\"1\" class=\"dataframe\">\n",
       "  <thead>\n",
       "    <tr style=\"text-align: right;\">\n",
       "      <th></th>\n",
       "      <th>R_avg</th>\n",
       "      <th>G_avg</th>\n",
       "      <th>B_avg</th>\n",
       "      <th>Color_var</th>\n",
       "      <th>V_var</th>\n",
       "      <th>S_var</th>\n",
       "    </tr>\n",
       "  </thead>\n",
       "  <tbody>\n",
       "    <tr>\n",
       "      <td>193</td>\n",
       "      <td>14.147298</td>\n",
       "      <td>23.378985</td>\n",
       "      <td>21.207354</td>\n",
       "      <td>8891.972891</td>\n",
       "      <td>19370.73097</td>\n",
       "      <td>0.247073</td>\n",
       "    </tr>\n",
       "    <tr>\n",
       "      <td>26</td>\n",
       "      <td>31.944463</td>\n",
       "      <td>19.943042</td>\n",
       "      <td>17.643167</td>\n",
       "      <td>12232.824940</td>\n",
       "      <td>19765.44221</td>\n",
       "      <td>0.273746</td>\n",
       "    </tr>\n",
       "    <tr>\n",
       "      <td>15</td>\n",
       "      <td>21.955973</td>\n",
       "      <td>2.595209</td>\n",
       "      <td>4.138680</td>\n",
       "      <td>9014.038074</td>\n",
       "      <td>17412.89748</td>\n",
       "      <td>0.443652</td>\n",
       "    </tr>\n",
       "  </tbody>\n",
       "</table>\n",
       "</div>"
      ],
      "text/plain": [
       "         R_avg      G_avg      B_avg     Color_var        V_var     S_var\n",
       "193  14.147298  23.378985  21.207354   8891.972891  19370.73097  0.247073\n",
       "26   31.944463  19.943042  17.643167  12232.824940  19765.44221  0.273746\n",
       "15   21.955973   2.595209   4.138680   9014.038074  17412.89748  0.443652"
      ]
     },
     "execution_count": 9,
     "metadata": {},
     "output_type": "execute_result"
    }
   ],
   "source": [
    "X_train.head(3)"
   ]
  },
  {
   "cell_type": "code",
   "execution_count": 10,
   "metadata": {},
   "outputs": [
    {
     "data": {
      "text/plain": [
       "193    3\n",
       "26     2\n",
       "15     2\n",
       "71     1\n",
       "6      2\n",
       "Name: label, dtype: int64"
      ]
     },
     "execution_count": 10,
     "metadata": {},
     "output_type": "execute_result"
    }
   ],
   "source": [
    "y_train.head(5)"
   ]
  },
  {
   "cell_type": "code",
   "execution_count": 11,
   "metadata": {},
   "outputs": [
    {
     "name": "stdout",
     "output_type": "stream",
     "text": [
      "학습 세트 Shape:(160, 6), 테스트 세트 Shape:(40, 6)\n",
      "학습 세트 레이블 값 분포 비율\n",
      "0    0.26875\n",
      "3    0.24375\n",
      "2    0.24375\n",
      "1    0.24375\n",
      "Name: label, dtype: float64\n",
      "\n",
      " 테스트 세트 레이블 값 분포 비율\n",
      "3    0.275\n",
      "2    0.275\n",
      "1    0.275\n",
      "0    0.175\n",
      "Name: label, dtype: float64\n"
     ]
    }
   ],
   "source": [
    "train_cnt = y_train.count()\n",
    "test_cnt = y_test.count()\n",
    "print('학습 세트 Shape:{0}, 테스트 세트 Shape:{1}'.format(X_train.shape, X_test.shape))\n",
    "\n",
    "print('학습 세트 레이블 값 분포 비율')\n",
    "print(y_train.value_counts()/train_cnt)\n",
    "\n",
    "print('\\n 테스트 세트 레이블 값 분포 비율')\n",
    "print(y_test.value_counts()/test_cnt)"
   ]
  },
  {
   "cell_type": "markdown",
   "metadata": {},
   "source": [
    "## DecisionTree 분류기"
   ]
  },
  {
   "cell_type": "code",
   "execution_count": 12,
   "metadata": {},
   "outputs": [
    {
     "name": "stdout",
     "output_type": "stream",
     "text": [
      "DecisionTreeClassifier 정확도 : 0.6250\n"
     ]
    }
   ],
   "source": [
    "from sklearn.tree import DecisionTreeClassifier\n",
    "from sklearn.metrics import accuracy_score\n",
    "\n",
    "# DecisionTree 클래스 생성\n",
    "dt_clf = DecisionTreeClassifier(random_state=11)\n",
    "\n",
    "# DecisionTreeClassifier 학습/예측/평가\n",
    "dt_clf.fit(X_train, y_train)\n",
    "dt_pred = dt_clf.predict(X_test)\n",
    "print('DecisionTreeClassifier 정확도 : {0:.4f}'.format(accuracy_score(y_test, dt_pred)))"
   ]
  },
  {
   "cell_type": "code",
   "execution_count": 13,
   "metadata": {},
   "outputs": [
    {
     "name": "stdout",
     "output_type": "stream",
     "text": [
      "GridSearch 최적 하이퍼 파라미터:  {'max_depth': 6, 'min_samples_leaf': 9, 'min_samples_split': 2}\n",
      "GridSearch 최고 정확도:0.6625 \n",
      "튜닝 후 예측 정확도: 0.7000\n"
     ]
    }
   ],
   "source": [
    "from sklearn.model_selection import GridSearchCV\n",
    "\n",
    "parameters = {'max_depth': [2, 4, 6, 8, 10, 12],\n",
    "                        'min_samples_split' : [2, 3, 4, 5],\n",
    "                         'min_samples_leaf' : [1, 3, 5, 7, 9]}\n",
    "\n",
    "grid_dclf = GridSearchCV(dt_clf, param_grid=parameters, scoring='accuracy', cv=5)\n",
    "grid_dclf.fit(X_train, y_train)\n",
    "\n",
    "print(\"GridSearch 최적 하이퍼 파라미터: \", grid_dclf.best_params_)\n",
    "print(\"GridSearch 최고 정확도:{:.4f} \".format(grid_dclf.best_score_))\n",
    "best_dclf = grid_dclf.best_estimator_\n",
    "\n",
    "# GridSearch의 최적 하이퍼파라미터로 학습된 Estimator로 예측 및 평가 수행\n",
    "predictions = best_dclf.predict(X_test)\n",
    "accuracy = accuracy_score(y_test, predictions)\n",
    "print('튜닝 후 예측 정확도: {0:.4f}'.format(accuracy))"
   ]
  },
  {
   "cell_type": "code",
   "execution_count": 14,
   "metadata": {},
   "outputs": [
    {
     "data": {
      "text/plain": [
       "<Figure size 800x600 with 1 Axes>"
      ]
     },
     "metadata": {},
     "output_type": "display_data"
    }
   ],
   "source": [
    "import seaborn as sns\n",
    "import matplotlib.pyplot as plt\n",
    "\n",
    "feature_importance_values = best_dclf.feature_importances_\n",
    "# Top 중요도로 정렬하고, 쉽게 시각화하기 위해 Series 변환\n",
    "feature_importances = pd.Series(feature_importance_values, index=X_train.columns)\n",
    "# 중요도값 순으로 Series를 정렬\n",
    "feature_top20 = feature_importances.sort_values(ascending=False)[:]\n",
    "\n",
    "plt.figure(figsize=[8, 6])\n",
    "plt.title('Decision Tree Feature Importances')\n",
    "sns.barplot(x=feature_top20, y=feature_top20.index)\n",
    "plt.show()"
   ]
  },
  {
   "cell_type": "markdown",
   "metadata": {},
   "source": [
    "## Random Forest 분류기"
   ]
  },
  {
   "cell_type": "code",
   "execution_count": 15,
   "metadata": {},
   "outputs": [],
   "source": [
    "from sklearn.ensemble import RandomForestClassifier"
   ]
  },
  {
   "cell_type": "code",
   "execution_count": 16,
   "metadata": {},
   "outputs": [
    {
     "name": "stdout",
     "output_type": "stream",
     "text": [
      "랜덤 포레스트 정확도: 0.7250\n"
     ]
    }
   ],
   "source": [
    "rf_clf = RandomForestClassifier(random_state=11)\n",
    "rf_clf.fit(X_train, y_train)\n",
    "pred = rf_clf.predict(X_test)\n",
    "accuracy = accuracy_score(y_test, pred)\n",
    "print('랜덤 포레스트 정확도: {0:.4f}'.format(accuracy))"
   ]
  },
  {
   "cell_type": "code",
   "execution_count": 17,
   "metadata": {
    "scrolled": true
   },
   "outputs": [
    {
     "name": "stdout",
     "output_type": "stream",
     "text": [
      "최적 하이퍼 파라미터:\n",
      " {'max_depth': 2, 'min_samples_leaf': 18, 'min_samples_split': 4, 'n_estimators': 100}\n",
      "최고 예측 정확도: 0.6750\n"
     ]
    }
   ],
   "source": [
    "params = {\n",
    "    'n_estimators':[50,100,200],\n",
    "    'max_depth' : [2,4,6,8],\n",
    "    'min_samples_leaf' : [18,24,30],\n",
    "    'min_samples_split' : [4, 8, 16, 20]\n",
    "}\n",
    "# RandomForestClassifier 객체 생성 후 GridSearchCV 수행\n",
    "rf_clf = RandomForestClassifier(random_state=11, n_jobs=-11)\n",
    "grid_cv = GridSearchCV(rf_clf, param_grid=params, cv=5, n_jobs=-1)\n",
    "grid_cv.fit(X_train, y_train)\n",
    "\n",
    "print('최적 하이퍼 파라미터:\\n',grid_cv.best_params_)\n",
    "print('최고 예측 정확도: {0:.4f}'.format(grid_cv.best_score_))"
   ]
  },
  {
   "cell_type": "code",
   "execution_count": 18,
   "metadata": {},
   "outputs": [
    {
     "name": "stdout",
     "output_type": "stream",
     "text": [
      "튜닝 후 예측 정확도: 0.8250\n"
     ]
    }
   ],
   "source": [
    "best_rfclf = grid_cv.best_estimator_\n",
    "best_rfclf.fit(X_train, y_train)\n",
    "pred = best_rfclf.predict(X_test)\n",
    "print('튜닝 후 예측 정확도: {0:.4f}'.format(accuracy_score(y_test, pred)))"
   ]
  },
  {
   "cell_type": "code",
   "execution_count": 19,
   "metadata": {},
   "outputs": [
    {
     "data": {
      "image/png": "[encoded data removed]",
      "text/plain": [
       "<Figure size 576x432 with 1 Axes>"
      ]
     },
     "metadata": {
      "needs_background": "light"
     },
     "output_type": "display_data"
    }
   ],
   "source": [
    "ftr_importances_values = best_rfclf.feature_importances_\n",
    "ftr_importances = pd.Series(ftr_importances_values, index=X_train.columns)\n",
    "ftr_top = ftr_importances.sort_values(ascending=False)[:]\n",
    "\n",
    "plt.figure(figsize=[8, 6])\n",
    "plt.title('Random Forest Feature Importances')\n",
    "sns.barplot(x=ftr_top, y=ftr_top.index)\n",
    "plt.show()"
   ]
  },
  {
   "cell_type": "markdown",
   "metadata": {},
   "source": [
    "## Logistic Regression 분류기"
   ]
  },
  {
   "cell_type": "code",
   "execution_count": 20,
   "metadata": {},
   "outputs": [],
   "source": [
    "from sklearn.linear_model import LogisticRegression\n",
    "import numpy as np"
   ]
  },
  {
   "cell_type": "code",
   "execution_count": 21,
   "metadata": {},
   "outputs": [
    {
     "name": "stdout",
     "output_type": "stream",
     "text": [
      "로지스틱 회귀 정확도: 0.7000\n"
     ]
    }
   ],
   "source": [
    "lr_clf = LogisticRegression(random_state=11)\n",
    "lr_clf.fit(X_train, y_train)\n",
    "pred = lr_clf.predict(X_test)\n",
    "accuracy = accuracy_score(y_test, pred)\n",
    "print('로지스틱 회귀 정확도: {0:.4f}'.format(accuracy))"
   ]
  },
  {
   "cell_type": "code",
   "execution_count": 22,
   "metadata": {},
   "outputs": [
    {
     "name": "stdout",
     "output_type": "stream",
     "text": [
      "최적 하이퍼 파라미터:\n",
      " {'C': 7.742636826811269, 'penalty': 'l1'}\n",
      "최고 예측 정확도: 0.7500\n"
     ]
    }
   ],
   "source": [
    "# Create regularization penalty space\n",
    "penalty = ['l1', 'l2']\n",
    "\n",
    "# Create regularization hyperparameter space\n",
    "C = np.logspace(0, 4, 10)\n",
    "\n",
    "# Create hyperparameter options\n",
    "hyperparameters = dict(C=C, penalty=penalty)\n",
    "\n",
    "# Create grid search using 5-fold cross validation\n",
    "best_lrclf = GridSearchCV(lr_clf, hyperparameters, cv=5, verbose=0)\n",
    "best_model = best_lrclf.fit(X_train, y_train)\n",
    "best_lrclf.fit(X_train, y_train)\n",
    "\n",
    "print('최적 하이퍼 파라미터:\\n',best_lrclf.best_params_)\n",
    "print('최고 예측 정확도: {0:.4f}'.format(best_lrclf.best_score_))"
   ]
  },
  {
   "cell_type": "code",
   "execution_count": 23,
   "metadata": {},
   "outputs": [
    {
     "name": "stdout",
     "output_type": "stream",
     "text": [
      "튜닝 후 예측 정확도: 0.7250\n",
      "튜닝 전 예측 정확도: 0.7000\n"
     ]
    }
   ],
   "source": [
    "pred = best_model.predict(X_test)\n",
    "print('튜닝 후 예측 정확도: {0:.4f}'.format(accuracy_score(y_test, pred)))\n",
    "\n",
    "pred = lr_clf.predict(X_test)\n",
    "print('튜닝 전 예측 정확도: {0:.4f}'.format(accuracy_score(y_test, pred)))"
   ]
  },
  {
   "cell_type": "markdown",
   "metadata": {},
   "source": [
    "## 시간 영상 분석"
   ]
  },
  {
   "cell_type": "code",
   "execution_count": 24,
   "metadata": {},
   "outputs": [],
   "source": [
    "pre_data = pd.read_csv('videooutput.csv')"
   ]
  },
  {
   "cell_type": "code",
   "execution_count": 25,
   "metadata": {},
   "outputs": [
    {
     "name": "stdout",
     "output_type": "stream",
     "text": [
      "<class 'pandas.core.frame.DataFrame'>\n",
      "RangeIndex: 13 entries, 0 to 12\n",
      "Data columns (total 6 columns):\n",
      "R_avg        13 non-null float64\n",
      "G_avg        13 non-null float64\n",
      "B_avg        13 non-null float64\n",
      "Color_var    13 non-null float64\n",
      "V_var        13 non-null float64\n",
      "S_var        13 non-null float64\n",
      "dtypes: float64(6)\n",
      "memory usage: 752.0 bytes\n",
      "None\n"
     ]
    }
   ],
   "source": [
    "print(pre_data.info())"
   ]
  },
  {
   "cell_type": "code",
   "execution_count": 26,
   "metadata": {},
   "outputs": [
    {
     "data": {
      "text/html": [
       "<div>\n",
       "<style scoped>\n",
       "    .dataframe tbody tr th:only-of-type {\n",
       "        vertical-align: middle;\n",
       "    }\n",
       "\n",
       "    .dataframe tbody tr th {\n",
       "        vertical-align: top;\n",
       "    }\n",
       "\n",
       "    .dataframe thead th {\n",
       "        text-align: right;\n",
       "    }\n",
       "</style>\n",
       "<table border=\"1\" class=\"dataframe\">\n",
       "  <thead>\n",
       "    <tr style=\"text-align: right;\">\n",
       "      <th></th>\n",
       "      <th>R_avg</th>\n",
       "      <th>G_avg</th>\n",
       "      <th>B_avg</th>\n",
       "      <th>Color_var</th>\n",
       "      <th>V_var</th>\n",
       "      <th>S_var</th>\n",
       "    </tr>\n",
       "  </thead>\n",
       "  <tbody>\n",
       "    <tr>\n",
       "      <td>0</td>\n",
       "      <td>12.762579</td>\n",
       "      <td>11.013587</td>\n",
       "      <td>14.174673</td>\n",
       "      <td>7450.508234</td>\n",
       "      <td>10667.01593</td>\n",
       "      <td>0.059369</td>\n",
       "    </tr>\n",
       "    <tr>\n",
       "      <td>1</td>\n",
       "      <td>13.305754</td>\n",
       "      <td>13.121752</td>\n",
       "      <td>28.036241</td>\n",
       "      <td>4477.940885</td>\n",
       "      <td>15388.55038</td>\n",
       "      <td>0.189764</td>\n",
       "    </tr>\n",
       "    <tr>\n",
       "      <td>2</td>\n",
       "      <td>12.281548</td>\n",
       "      <td>17.934414</td>\n",
       "      <td>35.975109</td>\n",
       "      <td>6329.676119</td>\n",
       "      <td>21949.04848</td>\n",
       "      <td>0.255585</td>\n",
       "    </tr>\n",
       "  </tbody>\n",
       "</table>\n",
       "</div>"
      ],
      "text/plain": [
       "       R_avg      G_avg      B_avg    Color_var        V_var     S_var\n",
       "0  12.762579  11.013587  14.174673  7450.508234  10667.01593  0.059369\n",
       "1  13.305754  13.121752  28.036241  4477.940885  15388.55038  0.189764\n",
       "2  12.281548  17.934414  35.975109  6329.676119  21949.04848  0.255585"
      ]
     },
     "execution_count": 26,
     "metadata": {},
     "output_type": "execute_result"
    }
   ],
   "source": [
    "pre_data.head(3)"
   ]
  },
  {
   "cell_type": "code",
   "execution_count": 27,
   "metadata": {},
   "outputs": [],
   "source": [
    "predictionc = best_rfclf.predict(pre_data)"
   ]
  },
  {
   "cell_type": "code",
   "execution_count": 28,
   "metadata": {},
   "outputs": [
    {
     "name": "stdout",
     "output_type": "stream",
     "text": [
      "예측: [1 2 2 3 3 1 3 3 0 0 0 3 3]\n",
      "예측 확률:\n",
      "[[0.0631093  0.57385731 0.20759826 0.15543513]\n",
      " [0.15327369 0.24431174 0.30914367 0.2932709 ]\n",
      " [0.22601762 0.18035648 0.32753676 0.26608914]\n",
      " [0.26350437 0.14571699 0.25399101 0.33678763]\n",
      " [0.14783405 0.26857877 0.26315981 0.32042738]\n",
      " [0.11696009 0.44893483 0.15613067 0.27797442]\n",
      " [0.27798221 0.1778181  0.1427261  0.40147358]\n",
      " [0.32667192 0.12256124 0.157236   0.39353084]\n",
      " [0.39945904 0.08978429 0.16808852 0.34266815]\n",
      " [0.40858081 0.08471309 0.17056692 0.33613917]\n",
      " [0.40858081 0.08471309 0.17056692 0.33613917]\n",
      " [0.35606465 0.09061282 0.168873   0.38444954]\n",
      " [0.31622085 0.09975901 0.17202488 0.41199526]]\n"
     ]
    }
   ],
   "source": [
    "print(\"예측: {}\".format(predictionc))\n",
    "print(\"예측 확률:\\n{}\".format(best_rfclf.predict_proba(pre_data[:len(predictionc)])))"
   ]
  },
  {
   "cell_type": "code",
   "execution_count": 72,
   "metadata": {},
   "outputs": [
    {
     "name": "stdout",
     "output_type": "stream",
     "text": [
      "[0.06310929791920775, 0.15327369067534652, 0.22601762330512495, 0.263504366792813, 0.14783404634528588, 0.1169600852713848, 0.2779822103974455, 0.3266719150281054, 0.39945903720757037, 0.40858081245674505, 0.40858081245674505, 0.35606464600560245, 0.3162208510261739]\n"
     ]
    },
    {
     "data": {
      "text/plain": [
       "<matplotlib.legend.Legend at 0x231fedb7f08>"
      ]
     },
     "execution_count": 72,
     "metadata": {},
     "output_type": "execute_result"
    },
    {
     "data": {
      "image/png": "[encoded data removed]",
      "text/plain": [
       "<Figure size 432x288 with 1 Axes>"
      ]
     },
     "metadata": {
      "needs_background": "light"
     },
     "output_type": "display_data"
    }
   ],
   "source": [
    "fig = plt.figure()\n",
    "ax = plt.title('Time Change')\n",
    "\n",
    "ax = fig.add_subplot(1,1,1)\n",
    "percent = best_rfclf.predict_proba(pre_data[:len(predictionc)])\n",
    "percent = percent.tolist()\n",
    "\n",
    "new0 = []\n",
    "new1 = []\n",
    "new2 = []\n",
    "new3 = []\n",
    "\n",
    "for i in range(0,len(predictionc)):\n",
    "    new0.append(percent[i][0])\n",
    "    new1.append(percent[i][1])\n",
    "    new2.append(percent[i][2])\n",
    "    new3.append(percent[i][3])\n",
    "print(new0)\n",
    "\n",
    "ax.plot(new0,label='happy')\n",
    "ax.plot(new1,label='depress')\n",
    "ax.plot(new2,label='passion')\n",
    "ax.plot(new3,label='comfort')\n",
    "ax.legend()\n"
   ]
  },
  {
   "cell_type": "markdown",
   "metadata": {},
   "source": [
    "## 봄 영상 분석"
   ]
  },
  {
   "cell_type": "code",
   "execution_count": 31,
   "metadata": {},
   "outputs": [],
   "source": [
    "spring_data = pd.read_csv('spring_output.csv')"
   ]
  },
  {
   "cell_type": "code",
   "execution_count": 32,
   "metadata": {},
   "outputs": [
    {
     "name": "stdout",
     "output_type": "stream",
     "text": [
      "<class 'pandas.core.frame.DataFrame'>\n",
      "RangeIndex: 83 entries, 0 to 82\n",
      "Data columns (total 6 columns):\n",
      "R_avg        83 non-null float64\n",
      "G_avg        83 non-null float64\n",
      "B_avg        83 non-null float64\n",
      "Color_var    83 non-null float64\n",
      "V_var        83 non-null float64\n",
      "S_var        83 non-null float64\n",
      "dtypes: float64(6)\n",
      "memory usage: 4.0 KB\n",
      "None\n"
     ]
    }
   ],
   "source": [
    "print(spring_data.info())"
   ]
  },
  {
   "cell_type": "code",
   "execution_count": 33,
   "metadata": {},
   "outputs": [
    {
     "data": {
      "text/html": [
       "<div>\n",
       "<style scoped>\n",
       "    .dataframe tbody tr th:only-of-type {\n",
       "        vertical-align: middle;\n",
       "    }\n",
       "\n",
       "    .dataframe tbody tr th {\n",
       "        vertical-align: top;\n",
       "    }\n",
       "\n",
       "    .dataframe thead th {\n",
       "        text-align: right;\n",
       "    }\n",
       "</style>\n",
       "<table border=\"1\" class=\"dataframe\">\n",
       "  <thead>\n",
       "    <tr style=\"text-align: right;\">\n",
       "      <th></th>\n",
       "      <th>R_avg</th>\n",
       "      <th>G_avg</th>\n",
       "      <th>B_avg</th>\n",
       "      <th>Color_var</th>\n",
       "      <th>V_var</th>\n",
       "      <th>S_var</th>\n",
       "    </tr>\n",
       "  </thead>\n",
       "  <tbody>\n",
       "    <tr>\n",
       "      <td>0</td>\n",
       "      <td>23.150356</td>\n",
       "      <td>23.581042</td>\n",
       "      <td>27.927677</td>\n",
       "      <td>10678.136430</td>\n",
       "      <td>21647.62073</td>\n",
       "      <td>0.098870</td>\n",
       "    </tr>\n",
       "    <tr>\n",
       "      <td>1</td>\n",
       "      <td>23.182724</td>\n",
       "      <td>23.609603</td>\n",
       "      <td>27.988057</td>\n",
       "      <td>10764.968970</td>\n",
       "      <td>21682.26974</td>\n",
       "      <td>0.099119</td>\n",
       "    </tr>\n",
       "    <tr>\n",
       "      <td>2</td>\n",
       "      <td>21.429791</td>\n",
       "      <td>22.158639</td>\n",
       "      <td>21.368061</td>\n",
       "      <td>6554.713531</td>\n",
       "      <td>18591.38189</td>\n",
       "      <td>0.216226</td>\n",
       "    </tr>\n",
       "  </tbody>\n",
       "</table>\n",
       "</div>"
      ],
      "text/plain": [
       "       R_avg      G_avg      B_avg     Color_var        V_var     S_var\n",
       "0  23.150356  23.581042  27.927677  10678.136430  21647.62073  0.098870\n",
       "1  23.182724  23.609603  27.988057  10764.968970  21682.26974  0.099119\n",
       "2  21.429791  22.158639  21.368061   6554.713531  18591.38189  0.216226"
      ]
     },
     "execution_count": 33,
     "metadata": {},
     "output_type": "execute_result"
    }
   ],
   "source": [
    "spring_data.head(3)"
   ]
  },
  {
   "cell_type": "code",
   "execution_count": 34,
   "metadata": {},
   "outputs": [],
   "source": [
    "spring_prediction = best_rfclf.predict(spring_data)"
   ]
  },
  {
   "cell_type": "code",
   "execution_count": 35,
   "metadata": {},
   "outputs": [
    {
     "name": "stdout",
     "output_type": "stream",
     "text": [
      "예측: [3 3 3 3 3 3 3 3 3 3 3 3 3 3 3 3 3 3 3 3 3 3 3 3 3 3 3 3 3 3 3 3 3 3 3 3 3\n",
      " 3 3 3 3 3 3 3 3 3 3 3 3 3 3 3 3 3 3 3 3 3 0 3 3 3 3 3 3 3 3 3 3 3 3 3 3 3\n",
      " 3 3 3 3 3 3 3 1 1]\n",
      "예측 확률:\n",
      "[[0.0631093  0.57385731 0.20759826 0.15543513]\n",
      " [0.15327369 0.24431174 0.30914367 0.2932709 ]\n",
      " [0.22601762 0.18035648 0.32753676 0.26608914]\n",
      " [0.26350437 0.14571699 0.25399101 0.33678763]\n",
      " [0.14783405 0.26857877 0.26315981 0.32042738]\n",
      " [0.11696009 0.44893483 0.15613067 0.27797442]\n",
      " [0.27798221 0.1778181  0.1427261  0.40147358]\n",
      " [0.32667192 0.12256124 0.157236   0.39353084]\n",
      " [0.39945904 0.08978429 0.16808852 0.34266815]\n",
      " [0.40858081 0.08471309 0.17056692 0.33613917]\n",
      " [0.40858081 0.08471309 0.17056692 0.33613917]\n",
      " [0.35606465 0.09061282 0.168873   0.38444954]\n",
      " [0.31622085 0.09975901 0.17202488 0.41199526]]\n"
     ]
    }
   ],
   "source": [
    "print(\"예측: {}\".format(spring_prediction))\n",
    "print(\"예측 확률:\\n{}\".format(best_rfclf.predict_proba(pre_data[:len(spring_prediction)])))"
   ]
  },
  {
   "cell_type": "code",
   "execution_count": 38,
   "metadata": {},
   "outputs": [
    {
     "name": "stdout",
     "output_type": "stream",
     "text": [
      "[0.2763270937309883, 0.268088097029749, 0.2619661906293836, 0.26455618630635575, 0.2663632038502154, 0.2663632038502154, 0.2663632038502154, 0.2663632038502154, 0.2663632038502154, 0.2663632038502154, 0.2663632038502154, 0.18657155852494395, 0.18657155852494395, 0.18657155852494395, 0.18657155852494395, 0.18657155852494395, 0.18657155852494395, 0.18657155852494395, 0.18657155852494395, 0.3053583928433803, 0.28565097613980805, 0.2887117176575627, 0.28232383886968393, 0.28039440241528957, 0.28039440241528957, 0.2852116986296953, 0.2598716872878978, 0.24043139463238652, 0.2614607731620923, 0.2585377142207127, 0.25322177646085303, 0.2589264938568686, 0.2631885688009716, 0.27142756550221087, 0.27577677185141725, 0.2616315437069152, 0.2750378044463863, 0.20774193783502629, 0.23952527525219874, 0.20206246886042134, 0.1931418552132396, 0.1935793552132396, 0.1935793552132396, 0.1935793552132396, 0.1935793552132396, 0.1935793552132396, 0.31660966696150966, 0.31660966696150966, 0.34098700885498057, 0.25470803644109596, 0.253908036441096, 0.25470803644109596, 0.3472664206196864, 0.34098700885498057, 0.34098700885498057, 0.1954679152772538, 0.20071773113514468, 0.26233519084364226, 0.4652856218894539, 0.28646413163336343, 0.2397977573418069, 0.2397977573418069, 0.2397977573418069, 0.23743034345443675, 0.2329691217660359, 0.2329691217660359, 0.23663034345443676, 0.23743034345443675, 0.23743034345443675, 0.2438258260336641, 0.2438258260336641, 0.27133505732114604, 0.27133505732114604, 0.2657288205747179, 0.26735302837016206, 0.26735302837016206, 0.27133505732114604, 0.2711766959401711, 0.2657288205747179, 0.26069361728105744, 0.25299308252169916, 0.13142528957610414, 0.14444949232623194]\n"
     ]
    },
    {
     "data": {
      "text/plain": [
       "<matplotlib.legend.Legend at 0x231fd64ae08>"
      ]
     },
     "execution_count": 38,
     "metadata": {},
     "output_type": "execute_result"
    },
    {
     "data": {
      "image/png": "[encoded data removed]",
      "text/plain": [
       "<Figure size 432x288 with 1 Axes>"
      ]
     },
     "metadata": {
      "needs_background": "light"
     },
     "output_type": "display_data"
    }
   ],
   "source": [
    "fig = plt.figure()\n",
    "ax = fig.add_subplot(1,1,1)\n",
    "percent = best_rfclf.predict_proba(spring_data[:len(spring_prediction)])\n",
    "percent = percent.tolist()\n",
    "\n",
    "new0 = []\n",
    "new1 = []\n",
    "new2 = []\n",
    "new3 = []\n",
    "\n",
    "for i in range(0,len(spring_prediction)):\n",
    "    new0.append(percent[i][0])\n",
    "    new1.append(percent[i][1])\n",
    "    new2.append(percent[i][2])\n",
    "    new3.append(percent[i][3])\n",
    "print(new0)\n",
    "ax.plot(new0,label='happy')\n",
    "ax.plot(new1,label='depress')\n",
    "ax.plot(new2,label='passion')\n",
    "ax.plot(new3,label='comfort')\n",
    "ax.legend()"
   ]
  },
  {
   "cell_type": "code",
   "execution_count": 40,
   "metadata": {},
   "outputs": [
    {
     "name": "stdout",
     "output_type": "stream",
     "text": [
      "[26.648149191442695, 20.09013672780185, 20.52032708198307, 32.741386998772384]\n"
     ]
    },
    {
     "data": {
      "image/png": "[encoded data removed]",
      "text/plain": [
       "<Figure size 432x288 with 1 Axes>"
      ]
     },
     "metadata": {
      "needs_background": "light"
     },
     "output_type": "display_data"
    }
   ],
   "source": [
    "data_x = [sum(new0, 0.0)/len(new0)*100, sum(new1, 0.0)/len(new1)*100, sum(new2, 0.0)/len(new2)*100, sum(new3, 0.0)/len(new3)*100]\n",
    "data_y = ['happy', 'depress', 'passion', 'comfort']\n",
    "print(data_x)\n",
    "plt.bar(data_y, data_x, label='Set 1', color='b')\n",
    "plt.legend()\n",
    "plt.title('Spring')\n",
    "plt.show()"
   ]
  },
  {
   "cell_type": "markdown",
   "metadata": {},
   "source": [
    "## 여름 영상 분석"
   ]
  },
  {
   "cell_type": "code",
   "execution_count": 41,
   "metadata": {},
   "outputs": [],
   "source": [
    "summer_data = pd.read_csv('summer_output.csv')"
   ]
  },
  {
   "cell_type": "code",
   "execution_count": 42,
   "metadata": {},
   "outputs": [
    {
     "name": "stdout",
     "output_type": "stream",
     "text": [
      "<class 'pandas.core.frame.DataFrame'>\n",
      "RangeIndex: 23 entries, 0 to 22\n",
      "Data columns (total 6 columns):\n",
      "R_avg        23 non-null float64\n",
      "G_avg        23 non-null float64\n",
      "B_avg        23 non-null float64\n",
      "Color_var    23 non-null float64\n",
      "V_var        23 non-null float64\n",
      "S_var        23 non-null float64\n",
      "dtypes: float64(6)\n",
      "memory usage: 1.2 KB\n",
      "None\n"
     ]
    }
   ],
   "source": [
    "print(summer_data.info())"
   ]
  },
  {
   "cell_type": "code",
   "execution_count": 43,
   "metadata": {},
   "outputs": [
    {
     "data": {
      "text/html": [
       "<div>\n",
       "<style scoped>\n",
       "    .dataframe tbody tr th:only-of-type {\n",
       "        vertical-align: middle;\n",
       "    }\n",
       "\n",
       "    .dataframe tbody tr th {\n",
       "        vertical-align: top;\n",
       "    }\n",
       "\n",
       "    .dataframe thead th {\n",
       "        text-align: right;\n",
       "    }\n",
       "</style>\n",
       "<table border=\"1\" class=\"dataframe\">\n",
       "  <thead>\n",
       "    <tr style=\"text-align: right;\">\n",
       "      <th></th>\n",
       "      <th>R_avg</th>\n",
       "      <th>G_avg</th>\n",
       "      <th>B_avg</th>\n",
       "      <th>Color_var</th>\n",
       "      <th>V_var</th>\n",
       "      <th>S_var</th>\n",
       "    </tr>\n",
       "  </thead>\n",
       "  <tbody>\n",
       "    <tr>\n",
       "      <td>0</td>\n",
       "      <td>24.970291</td>\n",
       "      <td>33.587436</td>\n",
       "      <td>32.276128</td>\n",
       "      <td>9598.620885</td>\n",
       "      <td>17338.83476</td>\n",
       "      <td>0.055217</td>\n",
       "    </tr>\n",
       "    <tr>\n",
       "      <td>1</td>\n",
       "      <td>25.061362</td>\n",
       "      <td>33.564568</td>\n",
       "      <td>32.309417</td>\n",
       "      <td>9712.796791</td>\n",
       "      <td>17213.27371</td>\n",
       "      <td>0.054684</td>\n",
       "    </tr>\n",
       "    <tr>\n",
       "      <td>2</td>\n",
       "      <td>24.893424</td>\n",
       "      <td>33.463976</td>\n",
       "      <td>32.177163</td>\n",
       "      <td>9536.346884</td>\n",
       "      <td>17034.35163</td>\n",
       "      <td>0.061316</td>\n",
       "    </tr>\n",
       "  </tbody>\n",
       "</table>\n",
       "</div>"
      ],
      "text/plain": [
       "       R_avg      G_avg      B_avg    Color_var        V_var     S_var\n",
       "0  24.970291  33.587436  32.276128  9598.620885  17338.83476  0.055217\n",
       "1  25.061362  33.564568  32.309417  9712.796791  17213.27371  0.054684\n",
       "2  24.893424  33.463976  32.177163  9536.346884  17034.35163  0.061316"
      ]
     },
     "execution_count": 43,
     "metadata": {},
     "output_type": "execute_result"
    }
   ],
   "source": [
    "summer_data.head(3)"
   ]
  },
  {
   "cell_type": "code",
   "execution_count": 44,
   "metadata": {},
   "outputs": [],
   "source": [
    "summer_prediction = best_rfclf.predict(summer_data)"
   ]
  },
  {
   "cell_type": "code",
   "execution_count": 45,
   "metadata": {},
   "outputs": [
    {
     "name": "stdout",
     "output_type": "stream",
     "text": [
      "예측: [1 1 1 1 1 1 1 1 1 2 1 1 1 1 3 3 3 3 3 3 3 3 3]\n",
      "예측 확률:\n",
      "[[0.0631093  0.57385731 0.20759826 0.15543513]\n",
      " [0.15327369 0.24431174 0.30914367 0.2932709 ]\n",
      " [0.22601762 0.18035648 0.32753676 0.26608914]\n",
      " [0.26350437 0.14571699 0.25399101 0.33678763]\n",
      " [0.14783405 0.26857877 0.26315981 0.32042738]\n",
      " [0.11696009 0.44893483 0.15613067 0.27797442]\n",
      " [0.27798221 0.1778181  0.1427261  0.40147358]\n",
      " [0.32667192 0.12256124 0.157236   0.39353084]\n",
      " [0.39945904 0.08978429 0.16808852 0.34266815]\n",
      " [0.40858081 0.08471309 0.17056692 0.33613917]\n",
      " [0.40858081 0.08471309 0.17056692 0.33613917]\n",
      " [0.35606465 0.09061282 0.168873   0.38444954]\n",
      " [0.31622085 0.09975901 0.17202488 0.41199526]]\n"
     ]
    }
   ],
   "source": [
    "print(\"예측: {}\".format(summer_prediction))\n",
    "print(\"예측 확률:\\n{}\".format(best_rfclf.predict_proba(pre_data[:len(summer_prediction)])))"
   ]
  },
  {
   "cell_type": "code",
   "execution_count": 46,
   "metadata": {},
   "outputs": [
    {
     "data": {
      "text/plain": [
       "<matplotlib.legend.Legend at 0x231fd875988>"
      ]
     },
     "execution_count": 46,
     "metadata": {},
     "output_type": "execute_result"
    },
    {
     "data": {
      "image/png": "[encoded data removed]",
      "text/plain": [
       "<Figure size 432x288 with 1 Axes>"
      ]
     },
     "metadata": {
      "needs_background": "light"
     },
     "output_type": "display_data"
    }
   ],
   "source": [
    "fig = plt.figure()\n",
    "ax = fig.add_subplot(1,1,1)\n",
    "percent = best_rfclf.predict_proba(summer_data[:len(summer_prediction)])\n",
    "percent = percent.tolist()\n",
    "\n",
    "new0 = []\n",
    "new1 = []\n",
    "new2 = []\n",
    "new3 = []\n",
    "\n",
    "for i in range(0,len(summer_prediction)):\n",
    "    new0.append(percent[i][0])\n",
    "    new1.append(percent[i][1])\n",
    "    new2.append(percent[i][2])\n",
    "    new3.append(percent[i][3])\n",
    "\n",
    "ax.plot(new0,label='happy')\n",
    "ax.plot(new1,label='depress')\n",
    "ax.plot(new2,label='passion')\n",
    "ax.plot(new3,label='comfort')\n",
    "ax.legend()"
   ]
  },
  {
   "cell_type": "code",
   "execution_count": 47,
   "metadata": {},
   "outputs": [
    {
     "name": "stdout",
     "output_type": "stream",
     "text": [
      "[16.947500071706838, 30.233585043174, 20.24524652037622, 32.57366836474294]\n"
     ]
    },
    {
     "data": {
      "image/png": "[encoded data removed]",
      "text/plain": [
       "<Figure size 432x288 with 1 Axes>"
      ]
     },
     "metadata": {
      "needs_background": "light"
     },
     "output_type": "display_data"
    }
   ],
   "source": [
    "data_x = [sum(new0, 0.0)/len(new0)*100, sum(new1, 0.0)/len(new1)*100, sum(new2, 0.0)/len(new2)*100, sum(new3, 0.0)/len(new3)*100]\n",
    "data_y = ['happy', 'depress', 'passion', 'comfort']\n",
    "print(data_x)\n",
    "plt.bar(data_y, data_x, label='Set 1', color='b')\n",
    "plt.legend()\n",
    "plt.title('Summer')\n",
    "plt.show()"
   ]
  },
  {
   "cell_type": "markdown",
   "metadata": {},
   "source": [
    "## 가을 영상 분석"
   ]
  },
  {
   "cell_type": "code",
   "execution_count": 48,
   "metadata": {},
   "outputs": [],
   "source": [
    "autumn_data = pd.read_csv('authom_output.csv')"
   ]
  },
  {
   "cell_type": "code",
   "execution_count": 49,
   "metadata": {},
   "outputs": [
    {
     "name": "stdout",
     "output_type": "stream",
     "text": [
      "<class 'pandas.core.frame.DataFrame'>\n",
      "RangeIndex: 21 entries, 0 to 20\n",
      "Data columns (total 6 columns):\n",
      "R_avg        21 non-null float64\n",
      "G_avg        21 non-null float64\n",
      "B_avg        21 non-null float64\n",
      "Color_var    21 non-null float64\n",
      "V_var        21 non-null float64\n",
      "S_var        21 non-null float64\n",
      "dtypes: float64(6)\n",
      "memory usage: 1.1 KB\n",
      "None\n"
     ]
    }
   ],
   "source": [
    "print(autumn_data.info())"
   ]
  },
  {
   "cell_type": "code",
   "execution_count": 50,
   "metadata": {},
   "outputs": [
    {
     "data": {
      "text/html": [
       "<div>\n",
       "<style scoped>\n",
       "    .dataframe tbody tr th:only-of-type {\n",
       "        vertical-align: middle;\n",
       "    }\n",
       "\n",
       "    .dataframe tbody tr th {\n",
       "        vertical-align: top;\n",
       "    }\n",
       "\n",
       "    .dataframe thead th {\n",
       "        text-align: right;\n",
       "    }\n",
       "</style>\n",
       "<table border=\"1\" class=\"dataframe\">\n",
       "  <thead>\n",
       "    <tr style=\"text-align: right;\">\n",
       "      <th></th>\n",
       "      <th>R_avg</th>\n",
       "      <th>G_avg</th>\n",
       "      <th>B_avg</th>\n",
       "      <th>Color_var</th>\n",
       "      <th>V_var</th>\n",
       "      <th>S_var</th>\n",
       "    </tr>\n",
       "  </thead>\n",
       "  <tbody>\n",
       "    <tr>\n",
       "      <td>0</td>\n",
       "      <td>13.575712</td>\n",
       "      <td>12.885653</td>\n",
       "      <td>9.445046</td>\n",
       "      <td>16398.37914</td>\n",
       "      <td>17378.90080</td>\n",
       "      <td>0.167691</td>\n",
       "    </tr>\n",
       "    <tr>\n",
       "      <td>1</td>\n",
       "      <td>14.507763</td>\n",
       "      <td>13.727542</td>\n",
       "      <td>9.854545</td>\n",
       "      <td>15887.31630</td>\n",
       "      <td>17575.06629</td>\n",
       "      <td>0.163010</td>\n",
       "    </tr>\n",
       "    <tr>\n",
       "      <td>2</td>\n",
       "      <td>17.935147</td>\n",
       "      <td>13.398015</td>\n",
       "      <td>11.115087</td>\n",
       "      <td>11516.88271</td>\n",
       "      <td>15886.39272</td>\n",
       "      <td>0.144677</td>\n",
       "    </tr>\n",
       "  </tbody>\n",
       "</table>\n",
       "</div>"
      ],
      "text/plain": [
       "       R_avg      G_avg      B_avg    Color_var        V_var     S_var\n",
       "0  13.575712  12.885653   9.445046  16398.37914  17378.90080  0.167691\n",
       "1  14.507763  13.727542   9.854545  15887.31630  17575.06629  0.163010\n",
       "2  17.935147  13.398015  11.115087  11516.88271  15886.39272  0.144677"
      ]
     },
     "execution_count": 50,
     "metadata": {},
     "output_type": "execute_result"
    }
   ],
   "source": [
    "autumn_data.head(3)"
   ]
  },
  {
   "cell_type": "code",
   "execution_count": 51,
   "metadata": {},
   "outputs": [],
   "source": [
    "autumn_prediction = best_rfclf.predict(autumn_data)"
   ]
  },
  {
   "cell_type": "code",
   "execution_count": 52,
   "metadata": {},
   "outputs": [
    {
     "name": "stdout",
     "output_type": "stream",
     "text": [
      "예측: [2 2 2 2 2 0 0 0 0 0 0 2 2 2 2 2 2 2 2 2 2]\n",
      "예측 확률:\n",
      "[[0.0631093  0.57385731 0.20759826 0.15543513]\n",
      " [0.15327369 0.24431174 0.30914367 0.2932709 ]\n",
      " [0.22601762 0.18035648 0.32753676 0.26608914]\n",
      " [0.26350437 0.14571699 0.25399101 0.33678763]\n",
      " [0.14783405 0.26857877 0.26315981 0.32042738]\n",
      " [0.11696009 0.44893483 0.15613067 0.27797442]\n",
      " [0.27798221 0.1778181  0.1427261  0.40147358]\n",
      " [0.32667192 0.12256124 0.157236   0.39353084]\n",
      " [0.39945904 0.08978429 0.16808852 0.34266815]\n",
      " [0.40858081 0.08471309 0.17056692 0.33613917]\n",
      " [0.40858081 0.08471309 0.17056692 0.33613917]\n",
      " [0.35606465 0.09061282 0.168873   0.38444954]\n",
      " [0.31622085 0.09975901 0.17202488 0.41199526]]\n"
     ]
    }
   ],
   "source": [
    "print(\"예측: {}\".format(autumn_prediction))\n",
    "print(\"예측 확률:\\n{}\".format(best_rfclf.predict_proba(pre_data[:len(autumn_prediction)])))"
   ]
  },
  {
   "cell_type": "code",
   "execution_count": 53,
   "metadata": {},
   "outputs": [
    {
     "data": {
      "text/plain": [
       "<matplotlib.legend.Legend at 0x231fd8718c8>"
      ]
     },
     "execution_count": 53,
     "metadata": {},
     "output_type": "execute_result"
    },
    {
     "data": {
      "image/png": "[encoded data removed]",
      "text/plain": [
       "<Figure size 432x288 with 1 Axes>"
      ]
     },
     "metadata": {
      "needs_background": "light"
     },
     "output_type": "display_data"
    }
   ],
   "source": [
    "fig = plt.figure()\n",
    "ax = fig.add_subplot(1,1,1)\n",
    "percent = best_rfclf.predict_proba(autumn_data[:len(autumn_prediction)])\n",
    "percent = percent.tolist()\n",
    "\n",
    "new0 = []\n",
    "new1 = []\n",
    "new2 = []\n",
    "new3 = []\n",
    "\n",
    "for i in range(0,len(autumn_prediction)):\n",
    "    new0.append(percent[i][0])\n",
    "    new1.append(percent[i][1])\n",
    "    new2.append(percent[i][2])\n",
    "    new3.append(percent[i][3])\n",
    "\n",
    "ax.plot(new0,label='happy')\n",
    "ax.plot(new1,label='depress')\n",
    "ax.plot(new2,label='passion')\n",
    "ax.plot(new3,label='comfort')\n",
    "ax.legend()"
   ]
  },
  {
   "cell_type": "code",
   "execution_count": 54,
   "metadata": {},
   "outputs": [
    {
     "name": "stdout",
     "output_type": "stream",
     "text": [
      "[28.602301252155087, 15.09644086191074, 35.56341622669931, 20.737841659234846]\n"
     ]
    },
    {
     "data": {
      "image/png": "[encoded data removed]",
      "text/plain": [
       "<Figure size 432x288 with 1 Axes>"
      ]
     },
     "metadata": {
      "needs_background": "light"
     },
     "output_type": "display_data"
    }
   ],
   "source": [
    "data_x = [sum(new0, 0.0)/len(new0)*100, sum(new1, 0.0)/len(new1)*100, sum(new2, 0.0)/len(new2)*100, sum(new3, 0.0)/len(new3)*100]\n",
    "data_y = ['happy', 'depress', 'passion', 'comfort']\n",
    "print(data_x)\n",
    "plt.bar(data_y, data_x, label='Set 1', color='b')\n",
    "plt.legend()\n",
    "plt.title('Autumn')\n",
    "plt.show()"
   ]
  },
  {
   "cell_type": "markdown",
   "metadata": {},
   "source": [
    "## 겨울 영상 분석"
   ]
  },
  {
   "cell_type": "code",
   "execution_count": 55,
   "metadata": {},
   "outputs": [],
   "source": [
    "winter_data = pd.read_csv('winter_output.csv')"
   ]
  },
  {
   "cell_type": "code",
   "execution_count": 56,
   "metadata": {},
   "outputs": [
    {
     "name": "stdout",
     "output_type": "stream",
     "text": [
      "<class 'pandas.core.frame.DataFrame'>\n",
      "RangeIndex: 16 entries, 0 to 15\n",
      "Data columns (total 6 columns):\n",
      "R_avg        16 non-null float64\n",
      "G_avg        16 non-null float64\n",
      "B_avg        16 non-null float64\n",
      "Color_var    16 non-null float64\n",
      "V_var        16 non-null float64\n",
      "S_var        16 non-null float64\n",
      "dtypes: float64(6)\n",
      "memory usage: 896.0 bytes\n",
      "None\n"
     ]
    }
   ],
   "source": [
    "print(winter_data.info())"
   ]
  },
  {
   "cell_type": "code",
   "execution_count": 57,
   "metadata": {},
   "outputs": [
    {
     "data": {
      "text/html": [
       "<div>\n",
       "<style scoped>\n",
       "    .dataframe tbody tr th:only-of-type {\n",
       "        vertical-align: middle;\n",
       "    }\n",
       "\n",
       "    .dataframe tbody tr th {\n",
       "        vertical-align: top;\n",
       "    }\n",
       "\n",
       "    .dataframe thead th {\n",
       "        text-align: right;\n",
       "    }\n",
       "</style>\n",
       "<table border=\"1\" class=\"dataframe\">\n",
       "  <thead>\n",
       "    <tr style=\"text-align: right;\">\n",
       "      <th></th>\n",
       "      <th>R_avg</th>\n",
       "      <th>G_avg</th>\n",
       "      <th>B_avg</th>\n",
       "      <th>Color_var</th>\n",
       "      <th>V_var</th>\n",
       "      <th>S_var</th>\n",
       "    </tr>\n",
       "  </thead>\n",
       "  <tbody>\n",
       "    <tr>\n",
       "      <td>0</td>\n",
       "      <td>23.222616</td>\n",
       "      <td>24.269744</td>\n",
       "      <td>29.885051</td>\n",
       "      <td>5400.327213</td>\n",
       "      <td>16849.51115</td>\n",
       "      <td>0.034938</td>\n",
       "    </tr>\n",
       "    <tr>\n",
       "      <td>1</td>\n",
       "      <td>23.093696</td>\n",
       "      <td>24.456214</td>\n",
       "      <td>30.949795</td>\n",
       "      <td>4466.281727</td>\n",
       "      <td>17298.49238</td>\n",
       "      <td>0.044969</td>\n",
       "    </tr>\n",
       "    <tr>\n",
       "      <td>2</td>\n",
       "      <td>22.772475</td>\n",
       "      <td>24.740020</td>\n",
       "      <td>31.779693</td>\n",
       "      <td>3546.353275</td>\n",
       "      <td>16320.95370</td>\n",
       "      <td>0.058429</td>\n",
       "    </tr>\n",
       "  </tbody>\n",
       "</table>\n",
       "</div>"
      ],
      "text/plain": [
       "       R_avg      G_avg      B_avg    Color_var        V_var     S_var\n",
       "0  23.222616  24.269744  29.885051  5400.327213  16849.51115  0.034938\n",
       "1  23.093696  24.456214  30.949795  4466.281727  17298.49238  0.044969\n",
       "2  22.772475  24.740020  31.779693  3546.353275  16320.95370  0.058429"
      ]
     },
     "execution_count": 57,
     "metadata": {},
     "output_type": "execute_result"
    }
   ],
   "source": [
    "winter_data.head(3)"
   ]
  },
  {
   "cell_type": "code",
   "execution_count": 58,
   "metadata": {},
   "outputs": [],
   "source": [
    "winter_prediction = best_rfclf.predict(winter_data)"
   ]
  },
  {
   "cell_type": "code",
   "execution_count": 59,
   "metadata": {},
   "outputs": [
    {
     "name": "stdout",
     "output_type": "stream",
     "text": [
      "예측: [1 1 1 3 3 3 3 3 3 3 3 3 3 3 3 1]\n",
      "예측 확률:\n",
      "[[0.0631093  0.57385731 0.20759826 0.15543513]\n",
      " [0.15327369 0.24431174 0.30914367 0.2932709 ]\n",
      " [0.22601762 0.18035648 0.32753676 0.26608914]\n",
      " [0.26350437 0.14571699 0.25399101 0.33678763]\n",
      " [0.14783405 0.26857877 0.26315981 0.32042738]\n",
      " [0.11696009 0.44893483 0.15613067 0.27797442]\n",
      " [0.27798221 0.1778181  0.1427261  0.40147358]\n",
      " [0.32667192 0.12256124 0.157236   0.39353084]\n",
      " [0.39945904 0.08978429 0.16808852 0.34266815]\n",
      " [0.40858081 0.08471309 0.17056692 0.33613917]\n",
      " [0.40858081 0.08471309 0.17056692 0.33613917]\n",
      " [0.35606465 0.09061282 0.168873   0.38444954]\n",
      " [0.31622085 0.09975901 0.17202488 0.41199526]]\n"
     ]
    }
   ],
   "source": [
    "print(\"예측: {}\".format(winter_prediction))\n",
    "print(\"예측 확률:\\n{}\".format(best_rfclf.predict_proba(pre_data[:len(winter_prediction)])))"
   ]
  },
  {
   "cell_type": "code",
   "execution_count": 60,
   "metadata": {},
   "outputs": [
    {
     "data": {
      "text/plain": [
       "<matplotlib.legend.Legend at 0x231fd9f7948>"
      ]
     },
     "execution_count": 60,
     "metadata": {},
     "output_type": "execute_result"
    },
    {
     "data": {
      "image/png": "[encoded data removed]",
      "text/plain": [
       "<Figure size 432x288 with 1 Axes>"
      ]
     },
     "metadata": {
      "needs_background": "light"
     },
     "output_type": "display_data"
    }
   ],
   "source": [
    "fig = plt.figure()\n",
    "ax = fig.add_subplot(1,1,1)\n",
    "percent = best_rfclf.predict_proba(winter_data[:len(winter_prediction)])\n",
    "percent = percent.tolist()\n",
    "\n",
    "new0 = []\n",
    "new1 = []\n",
    "new2 = []\n",
    "new3 = []\n",
    "\n",
    "for i in range(0,len(winter_prediction)):\n",
    "    new0.append(percent[i][0])\n",
    "    new1.append(percent[i][1])\n",
    "    new2.append(percent[i][2])\n",
    "    new3.append(percent[i][3])\n",
    "\n",
    "ax.plot(new0,label='happy')\n",
    "ax.plot(new1,label='depress')\n",
    "ax.plot(new2,label='passion')\n",
    "ax.plot(new3,label='comfort')\n",
    "ax.legend()"
   ]
  },
  {
   "cell_type": "code",
   "execution_count": 61,
   "metadata": {},
   "outputs": [
    {
     "name": "stdout",
     "output_type": "stream",
     "text": [
      "[17.926846553691625, 35.979304487362704, 10.628981152544632, 35.464867806401024]\n"
     ]
    },
    {
     "data": {
      "image/png": "[encoded data removed]",
      "text/plain": [
       "<Figure size 432x288 with 1 Axes>"
      ]
     },
     "metadata": {
      "needs_background": "light"
     },
     "output_type": "display_data"
    }
   ],
   "source": [
    "data_x = [sum(new0, 0.0)/len(new0)*100, sum(new1, 0.0)/len(new1)*100, sum(new2, 0.0)/len(new2)*100, sum(new3, 0.0)/len(new3)*100]\n",
    "data_y = ['happy', 'depress', 'passion', 'comfort']\n",
    "print(data_x)\n",
    "plt.bar(data_y, data_x, label='Set 1', color='b')\n",
    "plt.legend()\n",
    "plt.title('Winter')\n",
    "plt.show()"
   ]
  },
  {
   "cell_type": "code",
   "execution_count": null,
   "metadata": {},
   "outputs": [],
   "source": []
  }
 ],
 "metadata": {
  "kernelspec": {
   "display_name": "Python 3",
   "language": "python",
   "name": "python3"
  },
  "language_info": {
   "codemirror_mode": {
    "name": "ipython",
    "version": 3
   },
   "file_extension": ".py",
   "mimetype": "text/x-python",
   "name": "python",
   "nbconvert_exporter": "python",
   "pygments_lexer": "ipython3",
   "version": "3.8.3"
  }
 },
 "nbformat": 4,
 "nbformat_minor": 4
}
